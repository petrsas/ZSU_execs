{
  "cells": [
    {
      "cell_type": "markdown",
      "metadata": {
        "id": "b_0ktQ6MBtwE"
      },
      "source": [
        "# Fundamentals of Machine Learning - Exercise 2\n",
        "* The aim of the exercise is to learn basic techniques for visualization creation and interpretation using Matplotlib and Seaborn libraries.\n",
        "\n",
        "![meme02](https://github.com/rasvob/VSB-FEI-Fundamentals-of-Machine-Learning-Exercises/blob/master/images/fml_02_meme_02.png?raw=true)"
      ]
    },
    {
      "cell_type": "markdown",
      "metadata": {
        "id": "l9hHDMhFjshW",
        "tags": []
      },
      "source": [
        "# Exploratory data analysis\n",
        "\n",
        "Data source: https://www.kaggle.com/c/house-prices-advanced-regression-techniques/data\n",
        "\n",
        "Important attributes description:\n",
        "* SalePrice: The property's sale price in dollars. This is the target variable that you're trying to predict.\n",
        "* MSSubClass: The building class\n",
        "* BldgType: Type of dwelling\n",
        "* HouseStyle: Style of dwelling\n",
        "* OverallQual: Overall material and finish quality\n",
        "* OverallCond: Overall condition rating\n",
        "* YearBuilt: Original construction date\n",
        "* Heating: Type of heating\n",
        "* CentralAir: Central air conditioning\n",
        "* GrLivArea: Above grade (ground) living area square feet\n",
        "* BedroomAbvGr: Number of bedrooms above basement level"
      ]
    },
    {
      "cell_type": "markdown",
      "metadata": {
        "tags": [],
        "id": "6CNIfYdABtwJ"
      },
      "source": [
        "## Import used packages"
      ]
    },
    {
      "cell_type": "code",
      "execution_count": null,
      "metadata": {
        "id": "FVFwXLhL75FZ"
      },
      "outputs": [],
      "source": [
        "import pandas as pd # dataframes\n",
        "import numpy as np # matrices and linear algebra\n",
        "import matplotlib.pyplot as plt # plotting\n",
        "import seaborn as sns # another matplotlib interface - styled and easier to use"
      ]
    },
    {
      "cell_type": "markdown",
      "metadata": {
        "id": "JHfflDO5BtwL"
      },
      "source": [
        "## Load the data into the Pandas DataFrame - in our case it is a csv file\n",
        "* https://raw.githubusercontent.com/rasvob/VSB-FEI-Fundamentals-of-Machine-Learning-Exercises/master/datasets/zsu_cv1_data.csv"
      ]
    },
    {
      "cell_type": "code",
      "execution_count": null,
      "metadata": {
        "id": "Vvo5aDtYBtwL"
      },
      "outputs": [],
      "source": []
    },
    {
      "cell_type": "markdown",
      "metadata": {
        "id": "XZCotQfIBtwL"
      },
      "source": [
        "## Price is the most interisting attribute in our dataset, let's take a look on its distribution\n",
        "- SalePrice"
      ]
    },
    {
      "cell_type": "markdown",
      "metadata": {
        "id": "kURklAvsBtwM"
      },
      "source": [
        "## Vizualize house prices in form of histogram\n",
        "- What does it tell us about the prices?"
      ]
    },
    {
      "cell_type": "code",
      "execution_count": null,
      "metadata": {
        "tags": [],
        "id": "BoL4noeFBtwM"
      },
      "outputs": [],
      "source": []
    },
    {
      "cell_type": "markdown",
      "metadata": {
        "id": "rPAsBGMdBtwM"
      },
      "source": [
        "### Modify bins\n",
        "- Perhaps we want to visualize the histogram with more dense or coarse bins\n",
        "- *bins* attribute"
      ]
    },
    {
      "cell_type": "code",
      "execution_count": null,
      "metadata": {
        "id": "1pnv6MJrBtwN"
      },
      "outputs": [],
      "source": []
    },
    {
      "cell_type": "markdown",
      "metadata": {
        "id": "aatxyiK7BtwN"
      },
      "source": [
        "### Use quartiles (Q1, Q3) for highlighting most common price range in histogram\n",
        "\n",
        "* Check functions *describe* and *quantile* over price column"
      ]
    },
    {
      "cell_type": "code",
      "execution_count": null,
      "metadata": {
        "id": "HygGBcMmBtwN"
      },
      "outputs": [],
      "source": []
    },
    {
      "cell_type": "code",
      "execution_count": null,
      "metadata": {
        "id": "g8N-5me3BtwN"
      },
      "outputs": [],
      "source": []
    },
    {
      "cell_type": "markdown",
      "metadata": {
        "tags": [],
        "id": "oSaWf1qJBtwN"
      },
      "source": [
        "## 🔎 What can we say about prices based on the quantiles?\n",
        "### Use function *axvline* from Matplotlib to draw vertical lines at the quartile positions"
      ]
    },
    {
      "cell_type": "code",
      "execution_count": null,
      "metadata": {
        "id": "SR62t4H7BtwO"
      },
      "outputs": [],
      "source": []
    },
    {
      "cell_type": "markdown",
      "metadata": {
        "tags": [],
        "id": "lFUYE-rZBtwO"
      },
      "source": [
        "## 📊 Let's add more complexity to histogram vizualizations.\n",
        "### Does price change for different values of GaragaFinish attribute?\n",
        "\n",
        "### GarageFinish: Interior finish of the garage\n",
        "- Fin\tFinished\n",
        "- RFn\tRough Finished\n",
        "- Unf\tUnfinished\n",
        "- NA\tNo Garage"
      ]
    },
    {
      "cell_type": "code",
      "execution_count": null,
      "metadata": {
        "id": "6iawFGhSBtwO"
      },
      "outputs": [],
      "source": []
    },
    {
      "cell_type": "markdown",
      "metadata": {
        "id": "xX01gZViBtwO"
      },
      "source": [
        "### 💡 We can see that houses with no garage are somehow missing\n",
        "- The no garage houses have a *nan* value in the feature so they are not plotted"
      ]
    },
    {
      "cell_type": "markdown",
      "metadata": {
        "id": "e7LHjsp8BtwO"
      },
      "source": [
        "### Fill nan values with 'NoGarage' string"
      ]
    },
    {
      "cell_type": "code",
      "execution_count": null,
      "metadata": {
        "id": "x8h6-s5vBtwP"
      },
      "outputs": [],
      "source": []
    },
    {
      "cell_type": "markdown",
      "metadata": {
        "id": "p82CHQh4BtwP"
      },
      "source": [
        "### Take a look at the histogram again"
      ]
    },
    {
      "cell_type": "code",
      "execution_count": null,
      "metadata": {
        "id": "SDsq3dP3BtwP"
      },
      "outputs": [],
      "source": []
    },
    {
      "cell_type": "markdown",
      "metadata": {
        "id": "nZESynHMBtwP"
      },
      "source": [
        "## 💡 Sometimes the histograms distinguished by colors are not easily redeable\n",
        "- We can use *col* attribute to automatically plot every histogram on its own canvas"
      ]
    },
    {
      "cell_type": "code",
      "execution_count": null,
      "metadata": {
        "id": "gw-V-RzlBtwP"
      },
      "outputs": [],
      "source": []
    },
    {
      "cell_type": "markdown",
      "metadata": {
        "tags": [],
        "id": "g4u8DSpZBtwP"
      },
      "source": [
        "# 📊 Another very useful tecnique for the numerical features distributions are boxplots\n",
        "- 🔎 Did you see any of these before?\n",
        "\n",
        "- 🔎 How should we read boxplots?\n",
        "    - **Quartiles**\n",
        "    - **Median**\n",
        "    - Box size\n",
        "    - **Outliers and IQR**\n",
        "    - Min/max - with or without outliers"
      ]
    },
    {
      "cell_type": "markdown",
      "metadata": {
        "id": "HWZR6Mt1BtwP"
      },
      "source": [
        "### Plot only the *SalePrice* using boxplot"
      ]
    },
    {
      "cell_type": "code",
      "execution_count": null,
      "metadata": {
        "id": "ruCcd0VrBtwP"
      },
      "outputs": [],
      "source": []
    },
    {
      "cell_type": "markdown",
      "metadata": {
        "tags": [],
        "id": "hK1K3JOfBtwP"
      },
      "source": [
        "## Let's take a look at the *SalePrice* for different *BldgType* values\n",
        "- 🔎 What can we say about the prices?"
      ]
    },
    {
      "cell_type": "code",
      "execution_count": null,
      "metadata": {
        "id": "XL-3-riYBtwQ"
      },
      "outputs": [],
      "source": []
    },
    {
      "cell_type": "markdown",
      "metadata": {
        "id": "CPzlA2TrBtwQ"
      },
      "source": [
        "## We can do the same for *GrLivArea*"
      ]
    },
    {
      "cell_type": "code",
      "execution_count": null,
      "metadata": {
        "id": "h8Vxa5pIBtwQ"
      },
      "outputs": [],
      "source": []
    },
    {
      "cell_type": "markdown",
      "metadata": {
        "tags": [],
        "id": "X9yP4F1VBtwQ"
      },
      "source": [
        "## Let's take a look at the *GrLivArea* for different *BldgType* values\n",
        "- 🔎 What can we say about the GrLivArea?"
      ]
    },
    {
      "cell_type": "code",
      "execution_count": null,
      "metadata": {
        "id": "KgoQA4ICBtwQ"
      },
      "outputs": [],
      "source": []
    },
    {
      "cell_type": "markdown",
      "metadata": {
        "id": "3KeRHZKmBtwQ"
      },
      "source": [
        "# 📊 Scatter plots are commonly used for visualizing two numerical variables"
      ]
    },
    {
      "cell_type": "markdown",
      "metadata": {
        "id": "jAVbK62WBtwQ"
      },
      "source": [
        "### We can use standard *scatterplot* with *BldgType* as a *hue* so we can better grasp the relationship between *GrLivArea* and *SalePrice*\n",
        "* Try to set *alpha* parameter for opacity settings"
      ]
    },
    {
      "cell_type": "code",
      "execution_count": null,
      "metadata": {
        "id": "TG6e0hI5BtwR"
      },
      "outputs": [],
      "source": []
    },
    {
      "cell_type": "markdown",
      "metadata": {
        "id": "e5yv27fYBtwR"
      },
      "source": [
        "### We can see there are some outliers in the data, let's zoom only to area without them, how can we filter the data?"
      ]
    },
    {
      "cell_type": "code",
      "execution_count": null,
      "metadata": {
        "id": "-Hg8swE_BtwR"
      },
      "outputs": [],
      "source": []
    },
    {
      "cell_type": "markdown",
      "metadata": {
        "id": "kRc8BUKDBtwW"
      },
      "source": [
        "# We have an information about a month and a year for the sold houses.\n",
        "## 🔎 Can you vizualize what was the average price of the house by quarters?\n",
        "\n",
        "* We need to create a new column **YearQuarterSold** with merged Year and Quarter information in this pattern: '2010-1','2010-2' and so on first\n",
        "    * We can map the values using the *apply* function or use string concatenation directly\n",
        "* 💡 If you need to change data type of the columns, you can use *astype*"
      ]
    },
    {
      "cell_type": "code",
      "execution_count": null,
      "metadata": {
        "id": "Fg5t7AiKBtwX"
      },
      "outputs": [],
      "source": []
    },
    {
      "cell_type": "markdown",
      "metadata": {
        "id": "SPyX6XWgBtwX"
      },
      "source": [
        "### Compute the average price for the *YearQuarterSold* attribute"
      ]
    },
    {
      "cell_type": "code",
      "execution_count": null,
      "metadata": {
        "id": "0syL3LymBtwX"
      },
      "outputs": [],
      "source": []
    },
    {
      "cell_type": "markdown",
      "metadata": {
        "id": "kUYV8YXQBtwX"
      },
      "source": [
        "## Vizualize the data using *lineplot*\n",
        "- In case of xlabels mixing try to tune the *rotation* and *horizontalalignment* parameters"
      ]
    },
    {
      "cell_type": "code",
      "execution_count": null,
      "metadata": {
        "scrolled": true,
        "id": "eVqTb0oEBtwX"
      },
      "outputs": [],
      "source": []
    },
    {
      "cell_type": "markdown",
      "metadata": {
        "id": "Qu8C6NJEBtwX"
      },
      "source": [
        "### Add the max, min and median to the plot\n",
        "- Use *describe* and the [Pandas Melt](https://pandas.pydata.org/pandas-docs/stable/reference/api/pandas.melt.html) function\n",
        "    - use YearQuarterSold as an *id_vars*\n",
        "    - use 'min', 'mean', '50%', 'max' as *value_vars*"
      ]
    },
    {
      "cell_type": "code",
      "execution_count": null,
      "metadata": {
        "id": "Z2bEuZHwBtwY"
      },
      "outputs": [],
      "source": [
        "df.groupby('YearQuarterSold').SalePrice.describe().reset_index()"
      ]
    },
    {
      "cell_type": "markdown",
      "metadata": {
        "id": "uBdQYC4NBtwY"
      },
      "source": [
        "![meme01](https://github.com/rasvob/VSB-FEI-Fundamentals-of-Machine-Learning-Exercises/blob/master/images/fml_02_meme_01.png?raw=true)"
      ]
    },
    {
      "cell_type": "code",
      "execution_count": null,
      "metadata": {
        "id": "kqTrv2wtBtwY"
      },
      "outputs": [],
      "source": [
        "df_agg = df.groupby('YearQuarterSold').SalePrice.describe().reset_index()\n",
        "df_melt = pd.melt(df_agg, id_vars=['YearQuarterSold'], value_vars=['min', 'mean', '50%', 'max'])\n",
        "df_melt"
      ]
    },
    {
      "cell_type": "markdown",
      "metadata": {
        "id": "5ys3tmViBtwY"
      },
      "source": [
        "## What can we say about the minimum and maximum values?\n",
        "- 💡Take a look at std. deviation"
      ]
    },
    {
      "cell_type": "code",
      "execution_count": null,
      "metadata": {
        "id": "zg70qvqJBtwY"
      },
      "outputs": [],
      "source": [
        "fig = plt.figure(figsize=(9,6))\n",
        "sns.lineplot(data=df_melt, x='YearQuarterSold', y='value', hue='variable')\n",
        "plt.xticks(rotation=65, horizontalalignment='right')\n",
        "plt.show()"
      ]
    },
    {
      "cell_type": "markdown",
      "metadata": {
        "id": "kgXpXYzbBtwZ"
      },
      "source": [
        "# We can take a look at number of sold houses for the defined time periods as well\n",
        "## 📊 We will use standard bar plot\n",
        "- 🔎 In which quarter were the most houses sold?\n",
        "- 💡 Fun facts: [https://themortgagereports.com/44135/whats-the-best-time-of-year-to-sell-a-home](https://themortgagereports.com/44135/whats-the-best-time-of-year-to-sell-a-home)"
      ]
    },
    {
      "cell_type": "code",
      "execution_count": null,
      "metadata": {
        "id": "VZmeVlqpBtwZ"
      },
      "outputs": [],
      "source": []
    },
    {
      "cell_type": "code",
      "execution_count": null,
      "metadata": {
        "id": "QAkb4spsBtwZ"
      },
      "outputs": [],
      "source": []
    },
    {
      "cell_type": "markdown",
      "metadata": {
        "tags": [],
        "id": "rBPd6wqMBtwZ"
      },
      "source": [
        "# Tasks (2p)\n",
        "## ✅ Task 1 - Outlier detection (1p)\n",
        "- We need to somehow mark the outliers in the data according to the *SalePrice* and *GrLivArea*\n",
        "    - One possibility is to compute [IQR](https://www.statisticshowto.com/probability-and-statistics/interquartile-range/) for both columns and mark outliers using lower and upper bounds\n",
        "    - Lower bound: Q1 - 1.5*IQR\n",
        "    - Upper bound: Q3 + 1.5*IQR\n",
        "- 💡 If the house has *SalePrice* **OR** *GrLivArea* value outside of the bounds - it is an outlier\n",
        "- Vizualize the data using scatter plot and distinguish the outlier and non-outlier data using different colors (*hue*) 💡\n",
        "\n",
        "## ✅ Task 2 - Describe what you see in the data (1p)\n",
        "- Try to vizualize the relationship between *SalePrice* and *OverallQual*\n",
        "    - 💡You can use BoxPlots, Scatter plots, etc., the choice of a right plot type is up to you 🙂\n",
        "- Do the same for *SalePrice* and *OverallCond*; i.e. vizualize and describe insight-\n",
        "- **Describe the insight you got from the plots with a few sentences in a Markdown cell below the plot**\n",
        "    - ❌ Plot interpretation figured in real-time during task check is not allowed! ❌"
      ]
    }
  ],
  "metadata": {
    "colab": {
      "name": "ZSU_cv1_introduction_jupyter_pandas_visualization.ipynb",
      "provenance": []
    },
    "kernelspec": {
      "display_name": "Python 3 (ipykernel)",
      "language": "python",
      "name": "python3"
    },
    "language_info": {
      "codemirror_mode": {
        "name": "ipython",
        "version": 3
      },
      "file_extension": ".py",
      "mimetype": "text/x-python",
      "name": "python",
      "nbconvert_exporter": "python",
      "pygments_lexer": "ipython3",
      "version": "3.10.8"
    }
  },
  "nbformat": 4,
  "nbformat_minor": 0
}